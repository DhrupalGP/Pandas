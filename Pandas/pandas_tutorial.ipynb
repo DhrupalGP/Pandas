{
 "cells": [
  {
   "cell_type": "code",
   "execution_count": 13,
   "metadata": {},
   "outputs": [],
   "source": [
    "#importing modules\n",
    "import pandas as pd\n",
    "import numpy as np"
   ]
  },
  {
   "cell_type": "code",
   "execution_count": 14,
   "metadata": {},
   "outputs": [],
   "source": [
    "# create dictionary\n",
    "dict1 = {\n",
    "    'name' : ['Dhrupal','Nikunj','Vipul','Mehul'],\n",
    "    'marks' : [26, 27, 25, 23],\n",
    "    'city' : ['Mehsana','Visnagar','Somnath','Vijapur']\n",
    "}"
   ]
  },
  {
   "cell_type": "code",
   "execution_count": 15,
   "metadata": {},
   "outputs": [
    {
     "data": {
      "text/html": [
       "<div>\n",
       "<style scoped>\n",
       "    .dataframe tbody tr th:only-of-type {\n",
       "        vertical-align: middle;\n",
       "    }\n",
       "\n",
       "    .dataframe tbody tr th {\n",
       "        vertical-align: top;\n",
       "    }\n",
       "\n",
       "    .dataframe thead th {\n",
       "        text-align: right;\n",
       "    }\n",
       "</style>\n",
       "<table border=\"1\" class=\"dataframe\">\n",
       "  <thead>\n",
       "    <tr style=\"text-align: right;\">\n",
       "      <th></th>\n",
       "      <th>name</th>\n",
       "      <th>marks</th>\n",
       "      <th>city</th>\n",
       "    </tr>\n",
       "  </thead>\n",
       "  <tbody>\n",
       "    <tr>\n",
       "      <th>0</th>\n",
       "      <td>Dhrupal</td>\n",
       "      <td>26</td>\n",
       "      <td>Mehsana</td>\n",
       "    </tr>\n",
       "    <tr>\n",
       "      <th>1</th>\n",
       "      <td>Nikunj</td>\n",
       "      <td>27</td>\n",
       "      <td>Visnagar</td>\n",
       "    </tr>\n",
       "    <tr>\n",
       "      <th>2</th>\n",
       "      <td>Vipul</td>\n",
       "      <td>25</td>\n",
       "      <td>Somnath</td>\n",
       "    </tr>\n",
       "    <tr>\n",
       "      <th>3</th>\n",
       "      <td>Mehul</td>\n",
       "      <td>23</td>\n",
       "      <td>Vijapur</td>\n",
       "    </tr>\n",
       "  </tbody>\n",
       "</table>\n",
       "</div>"
      ],
      "text/plain": [
       "      name  marks      city\n",
       "0  Dhrupal     26   Mehsana\n",
       "1   Nikunj     27  Visnagar\n",
       "2    Vipul     25   Somnath\n",
       "3    Mehul     23   Vijapur"
      ]
     },
     "execution_count": 15,
     "metadata": {},
     "output_type": "execute_result"
    }
   ],
   "source": [
    "# create dataframe\n",
    "df = pd.DataFrame(dict1)\n",
    "df"
   ]
  },
  {
   "cell_type": "code",
   "execution_count": 16,
   "metadata": {},
   "outputs": [],
   "source": [
    "# change index\n",
    "df.index = ['I','II','III','IV']"
   ]
  },
  {
   "cell_type": "code",
   "execution_count": 17,
   "metadata": {},
   "outputs": [
    {
     "data": {
      "text/html": [
       "<div>\n",
       "<style scoped>\n",
       "    .dataframe tbody tr th:only-of-type {\n",
       "        vertical-align: middle;\n",
       "    }\n",
       "\n",
       "    .dataframe tbody tr th {\n",
       "        vertical-align: top;\n",
       "    }\n",
       "\n",
       "    .dataframe thead th {\n",
       "        text-align: right;\n",
       "    }\n",
       "</style>\n",
       "<table border=\"1\" class=\"dataframe\">\n",
       "  <thead>\n",
       "    <tr style=\"text-align: right;\">\n",
       "      <th></th>\n",
       "      <th>name</th>\n",
       "      <th>marks</th>\n",
       "      <th>city</th>\n",
       "    </tr>\n",
       "  </thead>\n",
       "  <tbody>\n",
       "    <tr>\n",
       "      <th>I</th>\n",
       "      <td>Dhrupal</td>\n",
       "      <td>26</td>\n",
       "      <td>Mehsana</td>\n",
       "    </tr>\n",
       "    <tr>\n",
       "      <th>II</th>\n",
       "      <td>Nikunj</td>\n",
       "      <td>27</td>\n",
       "      <td>Visnagar</td>\n",
       "    </tr>\n",
       "    <tr>\n",
       "      <th>III</th>\n",
       "      <td>Vipul</td>\n",
       "      <td>25</td>\n",
       "      <td>Somnath</td>\n",
       "    </tr>\n",
       "    <tr>\n",
       "      <th>IV</th>\n",
       "      <td>Mehul</td>\n",
       "      <td>23</td>\n",
       "      <td>Vijapur</td>\n",
       "    </tr>\n",
       "  </tbody>\n",
       "</table>\n",
       "</div>"
      ],
      "text/plain": [
       "        name  marks      city\n",
       "I    Dhrupal     26   Mehsana\n",
       "II    Nikunj     27  Visnagar\n",
       "III    Vipul     25   Somnath\n",
       "IV     Mehul     23   Vijapur"
      ]
     },
     "execution_count": 17,
     "metadata": {},
     "output_type": "execute_result"
    }
   ],
   "source": [
    "df"
   ]
  },
  {
   "cell_type": "code",
   "execution_count": 19,
   "metadata": {},
   "outputs": [],
   "source": [
    "# reset the index\n",
    "df.reset_index(drop=True,inplace=True)"
   ]
  },
  {
   "cell_type": "code",
   "execution_count": 20,
   "metadata": {},
   "outputs": [
    {
     "data": {
      "text/html": [
       "<div>\n",
       "<style scoped>\n",
       "    .dataframe tbody tr th:only-of-type {\n",
       "        vertical-align: middle;\n",
       "    }\n",
       "\n",
       "    .dataframe tbody tr th {\n",
       "        vertical-align: top;\n",
       "    }\n",
       "\n",
       "    .dataframe thead th {\n",
       "        text-align: right;\n",
       "    }\n",
       "</style>\n",
       "<table border=\"1\" class=\"dataframe\">\n",
       "  <thead>\n",
       "    <tr style=\"text-align: right;\">\n",
       "      <th></th>\n",
       "      <th>name</th>\n",
       "      <th>marks</th>\n",
       "      <th>city</th>\n",
       "    </tr>\n",
       "  </thead>\n",
       "  <tbody>\n",
       "    <tr>\n",
       "      <th>0</th>\n",
       "      <td>Dhrupal</td>\n",
       "      <td>26</td>\n",
       "      <td>Mehsana</td>\n",
       "    </tr>\n",
       "    <tr>\n",
       "      <th>1</th>\n",
       "      <td>Nikunj</td>\n",
       "      <td>27</td>\n",
       "      <td>Visnagar</td>\n",
       "    </tr>\n",
       "    <tr>\n",
       "      <th>2</th>\n",
       "      <td>Vipul</td>\n",
       "      <td>25</td>\n",
       "      <td>Somnath</td>\n",
       "    </tr>\n",
       "    <tr>\n",
       "      <th>3</th>\n",
       "      <td>Mehul</td>\n",
       "      <td>23</td>\n",
       "      <td>Vijapur</td>\n",
       "    </tr>\n",
       "  </tbody>\n",
       "</table>\n",
       "</div>"
      ],
      "text/plain": [
       "      name  marks      city\n",
       "0  Dhrupal     26   Mehsana\n",
       "1   Nikunj     27  Visnagar\n",
       "2    Vipul     25   Somnath\n",
       "3    Mehul     23   Vijapur"
      ]
     },
     "execution_count": 20,
     "metadata": {},
     "output_type": "execute_result"
    }
   ],
   "source": [
    "df"
   ]
  },
  {
   "cell_type": "code",
   "execution_count": 21,
   "metadata": {},
   "outputs": [],
   "source": [
    "# write data to csv file\n",
    "df.to_csv('friends_data.csv')"
   ]
  },
  {
   "cell_type": "code",
   "execution_count": 22,
   "metadata": {},
   "outputs": [
    {
     "data": {
      "text/html": [
       "<div>\n",
       "<style scoped>\n",
       "    .dataframe tbody tr th:only-of-type {\n",
       "        vertical-align: middle;\n",
       "    }\n",
       "\n",
       "    .dataframe tbody tr th {\n",
       "        vertical-align: top;\n",
       "    }\n",
       "\n",
       "    .dataframe thead th {\n",
       "        text-align: right;\n",
       "    }\n",
       "</style>\n",
       "<table border=\"1\" class=\"dataframe\">\n",
       "  <thead>\n",
       "    <tr style=\"text-align: right;\">\n",
       "      <th></th>\n",
       "      <th>name</th>\n",
       "      <th>marks</th>\n",
       "      <th>city</th>\n",
       "    </tr>\n",
       "  </thead>\n",
       "  <tbody>\n",
       "    <tr>\n",
       "      <th>0</th>\n",
       "      <td>Dhrupal</td>\n",
       "      <td>26</td>\n",
       "      <td>Mehsana</td>\n",
       "    </tr>\n",
       "    <tr>\n",
       "      <th>1</th>\n",
       "      <td>Nikunj</td>\n",
       "      <td>27</td>\n",
       "      <td>Visnagar</td>\n",
       "    </tr>\n",
       "  </tbody>\n",
       "</table>\n",
       "</div>"
      ],
      "text/plain": [
       "      name  marks      city\n",
       "0  Dhrupal     26   Mehsana\n",
       "1   Nikunj     27  Visnagar"
      ]
     },
     "execution_count": 22,
     "metadata": {},
     "output_type": "execute_result"
    }
   ],
   "source": [
    "# show uppermost data using head\n",
    "df.head(2)"
   ]
  },
  {
   "cell_type": "code",
   "execution_count": 23,
   "metadata": {},
   "outputs": [
    {
     "data": {
      "text/html": [
       "<div>\n",
       "<style scoped>\n",
       "    .dataframe tbody tr th:only-of-type {\n",
       "        vertical-align: middle;\n",
       "    }\n",
       "\n",
       "    .dataframe tbody tr th {\n",
       "        vertical-align: top;\n",
       "    }\n",
       "\n",
       "    .dataframe thead th {\n",
       "        text-align: right;\n",
       "    }\n",
       "</style>\n",
       "<table border=\"1\" class=\"dataframe\">\n",
       "  <thead>\n",
       "    <tr style=\"text-align: right;\">\n",
       "      <th></th>\n",
       "      <th>name</th>\n",
       "      <th>marks</th>\n",
       "      <th>city</th>\n",
       "    </tr>\n",
       "  </thead>\n",
       "  <tbody>\n",
       "    <tr>\n",
       "      <th>2</th>\n",
       "      <td>Vipul</td>\n",
       "      <td>25</td>\n",
       "      <td>Somnath</td>\n",
       "    </tr>\n",
       "    <tr>\n",
       "      <th>3</th>\n",
       "      <td>Mehul</td>\n",
       "      <td>23</td>\n",
       "      <td>Vijapur</td>\n",
       "    </tr>\n",
       "  </tbody>\n",
       "</table>\n",
       "</div>"
      ],
      "text/plain": [
       "    name  marks     city\n",
       "2  Vipul     25  Somnath\n",
       "3  Mehul     23  Vijapur"
      ]
     },
     "execution_count": 23,
     "metadata": {},
     "output_type": "execute_result"
    }
   ],
   "source": [
    "# show lowermost data using tail\n",
    "df.tail(2)"
   ]
  },
  {
   "cell_type": "code",
   "execution_count": 66,
   "metadata": {},
   "outputs": [
    {
     "data": {
      "text/html": [
       "<div>\n",
       "<style scoped>\n",
       "    .dataframe tbody tr th:only-of-type {\n",
       "        vertical-align: middle;\n",
       "    }\n",
       "\n",
       "    .dataframe tbody tr th {\n",
       "        vertical-align: top;\n",
       "    }\n",
       "\n",
       "    .dataframe thead th {\n",
       "        text-align: right;\n",
       "    }\n",
       "</style>\n",
       "<table border=\"1\" class=\"dataframe\">\n",
       "  <thead>\n",
       "    <tr style=\"text-align: right;\">\n",
       "      <th></th>\n",
       "      <th>1</th>\n",
       "      <th>2</th>\n",
       "      <th>3</th>\n",
       "      <th>4</th>\n",
       "    </tr>\n",
       "  </thead>\n",
       "  <tbody>\n",
       "    <tr>\n",
       "      <th>count</th>\n",
       "      <td>10.000000</td>\n",
       "      <td>10.000000</td>\n",
       "      <td>10.000000</td>\n",
       "      <td>10.000000</td>\n",
       "    </tr>\n",
       "    <tr>\n",
       "      <th>mean</th>\n",
       "      <td>0.577533</td>\n",
       "      <td>0.359415</td>\n",
       "      <td>0.514822</td>\n",
       "      <td>0.533384</td>\n",
       "    </tr>\n",
       "    <tr>\n",
       "      <th>std</th>\n",
       "      <td>0.289140</td>\n",
       "      <td>0.238371</td>\n",
       "      <td>0.320721</td>\n",
       "      <td>0.380487</td>\n",
       "    </tr>\n",
       "    <tr>\n",
       "      <th>min</th>\n",
       "      <td>0.029149</td>\n",
       "      <td>0.002009</td>\n",
       "      <td>0.087985</td>\n",
       "      <td>0.004178</td>\n",
       "    </tr>\n",
       "    <tr>\n",
       "      <th>25%</th>\n",
       "      <td>0.406279</td>\n",
       "      <td>0.255879</td>\n",
       "      <td>0.283225</td>\n",
       "      <td>0.210249</td>\n",
       "    </tr>\n",
       "    <tr>\n",
       "      <th>50%</th>\n",
       "      <td>0.621382</td>\n",
       "      <td>0.409251</td>\n",
       "      <td>0.507054</td>\n",
       "      <td>0.575028</td>\n",
       "    </tr>\n",
       "    <tr>\n",
       "      <th>75%</th>\n",
       "      <td>0.790302</td>\n",
       "      <td>0.442830</td>\n",
       "      <td>0.798419</td>\n",
       "      <td>0.884794</td>\n",
       "    </tr>\n",
       "    <tr>\n",
       "      <th>max</th>\n",
       "      <td>0.961763</td>\n",
       "      <td>0.705562</td>\n",
       "      <td>0.960049</td>\n",
       "      <td>0.937812</td>\n",
       "    </tr>\n",
       "  </tbody>\n",
       "</table>\n",
       "</div>"
      ],
      "text/plain": [
       "               1          2          3          4\n",
       "count  10.000000  10.000000  10.000000  10.000000\n",
       "mean    0.577533   0.359415   0.514822   0.533384\n",
       "std     0.289140   0.238371   0.320721   0.380487\n",
       "min     0.029149   0.002009   0.087985   0.004178\n",
       "25%     0.406279   0.255879   0.283225   0.210249\n",
       "50%     0.621382   0.409251   0.507054   0.575028\n",
       "75%     0.790302   0.442830   0.798419   0.884794\n",
       "max     0.961763   0.705562   0.960049   0.937812"
      ]
     },
     "execution_count": 66,
     "metadata": {},
     "output_type": "execute_result"
    }
   ],
   "source": [
    "# to have statstical summary of numerical fields\n",
    "df.describe()"
   ]
  },
  {
   "cell_type": "code",
   "execution_count": 26,
   "metadata": {},
   "outputs": [],
   "source": [
    "dict2 = {\n",
    "    'car' : ['i20','i10','bmw','mercedeze'],\n",
    "    'speed': [100,80,160,180],\n",
    "    'pricec' : [8,4,30,35]\n",
    "}"
   ]
  },
  {
   "cell_type": "code",
   "execution_count": 70,
   "metadata": {},
   "outputs": [
    {
     "data": {
      "text/html": [
       "<div>\n",
       "<style scoped>\n",
       "    .dataframe tbody tr th:only-of-type {\n",
       "        vertical-align: middle;\n",
       "    }\n",
       "\n",
       "    .dataframe tbody tr th {\n",
       "        vertical-align: top;\n",
       "    }\n",
       "\n",
       "    .dataframe thead th {\n",
       "        text-align: right;\n",
       "    }\n",
       "</style>\n",
       "<table border=\"1\" class=\"dataframe\">\n",
       "  <thead>\n",
       "    <tr style=\"text-align: right;\">\n",
       "      <th></th>\n",
       "      <th>car</th>\n",
       "      <th>speed</th>\n",
       "      <th>pricec</th>\n",
       "    </tr>\n",
       "  </thead>\n",
       "  <tbody>\n",
       "    <tr>\n",
       "      <th>0</th>\n",
       "      <td>i20</td>\n",
       "      <td>100</td>\n",
       "      <td>8</td>\n",
       "    </tr>\n",
       "    <tr>\n",
       "      <th>1</th>\n",
       "      <td>i10</td>\n",
       "      <td>80</td>\n",
       "      <td>4</td>\n",
       "    </tr>\n",
       "    <tr>\n",
       "      <th>2</th>\n",
       "      <td>bmw</td>\n",
       "      <td>160</td>\n",
       "      <td>30</td>\n",
       "    </tr>\n",
       "    <tr>\n",
       "      <th>3</th>\n",
       "      <td>mercedeze</td>\n",
       "      <td>180</td>\n",
       "      <td>35</td>\n",
       "    </tr>\n",
       "  </tbody>\n",
       "</table>\n",
       "</div>"
      ],
      "text/plain": [
       "         car  speed  pricec\n",
       "0        i20    100       8\n",
       "1        i10     80       4\n",
       "2        bmw    160      30\n",
       "3  mercedeze    180      35"
      ]
     },
     "execution_count": 70,
     "metadata": {},
     "output_type": "execute_result"
    }
   ],
   "source": [
    "df2 = pd.DataFrame(dict2)\n",
    "df2"
   ]
  },
  {
   "cell_type": "code",
   "execution_count": 71,
   "metadata": {},
   "outputs": [],
   "source": [
    "#write data to csv without index as a column\n",
    "df2.to_csv('car_details.csv',index=False)"
   ]
  },
  {
   "cell_type": "code",
   "execution_count": 32,
   "metadata": {},
   "outputs": [],
   "source": [
    "df3 = pd.read_csv('car_details.csv')"
   ]
  },
  {
   "cell_type": "code",
   "execution_count": 33,
   "metadata": {},
   "outputs": [
    {
     "data": {
      "text/html": [
       "<div>\n",
       "<style scoped>\n",
       "    .dataframe tbody tr th:only-of-type {\n",
       "        vertical-align: middle;\n",
       "    }\n",
       "\n",
       "    .dataframe tbody tr th {\n",
       "        vertical-align: top;\n",
       "    }\n",
       "\n",
       "    .dataframe thead th {\n",
       "        text-align: right;\n",
       "    }\n",
       "</style>\n",
       "<table border=\"1\" class=\"dataframe\">\n",
       "  <thead>\n",
       "    <tr style=\"text-align: right;\">\n",
       "      <th></th>\n",
       "      <th>car</th>\n",
       "      <th>speed</th>\n",
       "      <th>pricec</th>\n",
       "    </tr>\n",
       "  </thead>\n",
       "  <tbody>\n",
       "    <tr>\n",
       "      <th>0</th>\n",
       "      <td>i20</td>\n",
       "      <td>100</td>\n",
       "      <td>8</td>\n",
       "    </tr>\n",
       "    <tr>\n",
       "      <th>1</th>\n",
       "      <td>i10</td>\n",
       "      <td>80</td>\n",
       "      <td>4</td>\n",
       "    </tr>\n",
       "    <tr>\n",
       "      <th>2</th>\n",
       "      <td>bmw</td>\n",
       "      <td>160</td>\n",
       "      <td>30</td>\n",
       "    </tr>\n",
       "    <tr>\n",
       "      <th>3</th>\n",
       "      <td>mercedeze</td>\n",
       "      <td>180</td>\n",
       "      <td>35</td>\n",
       "    </tr>\n",
       "  </tbody>\n",
       "</table>\n",
       "</div>"
      ],
      "text/plain": [
       "         car  speed  pricec\n",
       "0        i20    100       8\n",
       "1        i10     80       4\n",
       "2        bmw    160      30\n",
       "3  mercedeze    180      35"
      ]
     },
     "execution_count": 33,
     "metadata": {},
     "output_type": "execute_result"
    }
   ],
   "source": [
    "df3"
   ]
  },
  {
   "cell_type": "code",
   "execution_count": 72,
   "metadata": {},
   "outputs": [
    {
     "data": {
      "text/plain": [
       "0    110\n",
       "1     80\n",
       "2    160\n",
       "3    180\n",
       "Name: speed, dtype: int64"
      ]
     },
     "execution_count": 72,
     "metadata": {},
     "output_type": "execute_result"
    }
   ],
   "source": [
    "# access particular column\n",
    "df3['speed']"
   ]
  },
  {
   "cell_type": "code",
   "execution_count": 35,
   "metadata": {},
   "outputs": [
    {
     "data": {
      "text/plain": [
       "100"
      ]
     },
     "execution_count": 35,
     "metadata": {},
     "output_type": "execute_result"
    }
   ],
   "source": [
    "# access data\n",
    "df3['speed'][0]"
   ]
  },
  {
   "cell_type": "code",
   "execution_count": 73,
   "metadata": {},
   "outputs": [
    {
     "name": "stderr",
     "output_type": "stream",
     "text": [
      "C:\\ProgramData\\Anaconda3\\lib\\site-packages\\ipykernel_launcher.py:2: SettingWithCopyWarning: \n",
      "A value is trying to be set on a copy of a slice from a DataFrame\n",
      "\n",
      "See the caveats in the documentation: https://pandas.pydata.org/pandas-docs/stable/user_guide/indexing.html#returning-a-view-versus-a-copy\n",
      "  \n"
     ]
    }
   ],
   "source": [
    "# change data\n",
    "df3['speed'][0] = 110"
   ]
  },
  {
   "cell_type": "code",
   "execution_count": 37,
   "metadata": {},
   "outputs": [
    {
     "data": {
      "text/html": [
       "<div>\n",
       "<style scoped>\n",
       "    .dataframe tbody tr th:only-of-type {\n",
       "        vertical-align: middle;\n",
       "    }\n",
       "\n",
       "    .dataframe tbody tr th {\n",
       "        vertical-align: top;\n",
       "    }\n",
       "\n",
       "    .dataframe thead th {\n",
       "        text-align: right;\n",
       "    }\n",
       "</style>\n",
       "<table border=\"1\" class=\"dataframe\">\n",
       "  <thead>\n",
       "    <tr style=\"text-align: right;\">\n",
       "      <th></th>\n",
       "      <th>car</th>\n",
       "      <th>speed</th>\n",
       "      <th>pricec</th>\n",
       "    </tr>\n",
       "  </thead>\n",
       "  <tbody>\n",
       "    <tr>\n",
       "      <th>0</th>\n",
       "      <td>i20</td>\n",
       "      <td>110</td>\n",
       "      <td>8</td>\n",
       "    </tr>\n",
       "    <tr>\n",
       "      <th>1</th>\n",
       "      <td>i10</td>\n",
       "      <td>80</td>\n",
       "      <td>4</td>\n",
       "    </tr>\n",
       "    <tr>\n",
       "      <th>2</th>\n",
       "      <td>bmw</td>\n",
       "      <td>160</td>\n",
       "      <td>30</td>\n",
       "    </tr>\n",
       "    <tr>\n",
       "      <th>3</th>\n",
       "      <td>mercedeze</td>\n",
       "      <td>180</td>\n",
       "      <td>35</td>\n",
       "    </tr>\n",
       "  </tbody>\n",
       "</table>\n",
       "</div>"
      ],
      "text/plain": [
       "         car  speed  pricec\n",
       "0        i20    110       8\n",
       "1        i10     80       4\n",
       "2        bmw    160      30\n",
       "3  mercedeze    180      35"
      ]
     },
     "execution_count": 37,
     "metadata": {},
     "output_type": "execute_result"
    }
   ],
   "source": [
    "df3"
   ]
  },
  {
   "cell_type": "code",
   "execution_count": 38,
   "metadata": {},
   "outputs": [
    {
     "data": {
      "text/plain": [
       "0    1\n",
       "1    2\n",
       "2    3\n",
       "3    4\n",
       "dtype: int64"
      ]
     },
     "execution_count": 38,
     "metadata": {},
     "output_type": "execute_result"
    }
   ],
   "source": [
    "# series 1-D array in pandas\n",
    "series = pd.Series([1,2,3,4])\n",
    "series"
   ]
  },
  {
   "cell_type": "code",
   "execution_count": 39,
   "metadata": {},
   "outputs": [
    {
     "data": {
      "text/plain": [
       "pandas.core.series.Series"
      ]
     },
     "execution_count": 39,
     "metadata": {},
     "output_type": "execute_result"
    }
   ],
   "source": [
    "# check type of Series\n",
    "type(series)"
   ]
  },
  {
   "cell_type": "code",
   "execution_count": 40,
   "metadata": {},
   "outputs": [],
   "source": [
    "# dataframe 2-D array in pandas (collections of 1 or more series)\n",
    "df = pd.DataFrame([1,2,3,4,5])"
   ]
  },
  {
   "cell_type": "code",
   "execution_count": 41,
   "metadata": {},
   "outputs": [
    {
     "data": {
      "text/html": [
       "<div>\n",
       "<style scoped>\n",
       "    .dataframe tbody tr th:only-of-type {\n",
       "        vertical-align: middle;\n",
       "    }\n",
       "\n",
       "    .dataframe tbody tr th {\n",
       "        vertical-align: top;\n",
       "    }\n",
       "\n",
       "    .dataframe thead th {\n",
       "        text-align: right;\n",
       "    }\n",
       "</style>\n",
       "<table border=\"1\" class=\"dataframe\">\n",
       "  <thead>\n",
       "    <tr style=\"text-align: right;\">\n",
       "      <th></th>\n",
       "      <th>0</th>\n",
       "    </tr>\n",
       "  </thead>\n",
       "  <tbody>\n",
       "    <tr>\n",
       "      <th>0</th>\n",
       "      <td>1</td>\n",
       "    </tr>\n",
       "    <tr>\n",
       "      <th>1</th>\n",
       "      <td>2</td>\n",
       "    </tr>\n",
       "    <tr>\n",
       "      <th>2</th>\n",
       "      <td>3</td>\n",
       "    </tr>\n",
       "    <tr>\n",
       "      <th>3</th>\n",
       "      <td>4</td>\n",
       "    </tr>\n",
       "    <tr>\n",
       "      <th>4</th>\n",
       "      <td>5</td>\n",
       "    </tr>\n",
       "  </tbody>\n",
       "</table>\n",
       "</div>"
      ],
      "text/plain": [
       "   0\n",
       "0  1\n",
       "1  2\n",
       "2  3\n",
       "3  4\n",
       "4  5"
      ]
     },
     "execution_count": 41,
     "metadata": {},
     "output_type": "execute_result"
    }
   ],
   "source": [
    "df"
   ]
  },
  {
   "cell_type": "code",
   "execution_count": 42,
   "metadata": {},
   "outputs": [
    {
     "data": {
      "text/plain": [
       "pandas.core.frame.DataFrame"
      ]
     },
     "execution_count": 42,
     "metadata": {},
     "output_type": "execute_result"
    }
   ],
   "source": [
    "type(df)"
   ]
  },
  {
   "cell_type": "code",
   "execution_count": 43,
   "metadata": {},
   "outputs": [
    {
     "data": {
      "text/html": [
       "<div>\n",
       "<style scoped>\n",
       "    .dataframe tbody tr th:only-of-type {\n",
       "        vertical-align: middle;\n",
       "    }\n",
       "\n",
       "    .dataframe tbody tr th {\n",
       "        vertical-align: top;\n",
       "    }\n",
       "\n",
       "    .dataframe thead th {\n",
       "        text-align: right;\n",
       "    }\n",
       "</style>\n",
       "<table border=\"1\" class=\"dataframe\">\n",
       "  <thead>\n",
       "    <tr style=\"text-align: right;\">\n",
       "      <th></th>\n",
       "      <th>0</th>\n",
       "      <th>1</th>\n",
       "      <th>2</th>\n",
       "      <th>3</th>\n",
       "      <th>4</th>\n",
       "    </tr>\n",
       "  </thead>\n",
       "  <tbody>\n",
       "    <tr>\n",
       "      <th>0</th>\n",
       "      <td>0.801897</td>\n",
       "      <td>0.029149</td>\n",
       "      <td>0.406246</td>\n",
       "      <td>0.519089</td>\n",
       "      <td>0.850062</td>\n",
       "    </tr>\n",
       "    <tr>\n",
       "      <th>1</th>\n",
       "      <td>0.253377</td>\n",
       "      <td>0.794112</td>\n",
       "      <td>0.262205</td>\n",
       "      <td>0.112366</td>\n",
       "      <td>0.937812</td>\n",
       "    </tr>\n",
       "    <tr>\n",
       "      <th>2</th>\n",
       "      <td>0.928544</td>\n",
       "      <td>0.322402</td>\n",
       "      <td>0.253770</td>\n",
       "      <td>0.598446</td>\n",
       "      <td>0.179741</td>\n",
       "    </tr>\n",
       "    <tr>\n",
       "      <th>3</th>\n",
       "      <td>0.677665</td>\n",
       "      <td>0.778870</td>\n",
       "      <td>0.422084</td>\n",
       "      <td>0.912409</td>\n",
       "      <td>0.347103</td>\n",
       "    </tr>\n",
       "    <tr>\n",
       "      <th>4</th>\n",
       "      <td>0.836882</td>\n",
       "      <td>0.775040</td>\n",
       "      <td>0.412256</td>\n",
       "      <td>0.087985</td>\n",
       "      <td>0.004178</td>\n",
       "    </tr>\n",
       "    <tr>\n",
       "      <th>5</th>\n",
       "      <td>0.853440</td>\n",
       "      <td>0.390238</td>\n",
       "      <td>0.705562</td>\n",
       "      <td>0.865077</td>\n",
       "      <td>0.094738</td>\n",
       "    </tr>\n",
       "    <tr>\n",
       "      <th>6</th>\n",
       "      <td>0.783176</td>\n",
       "      <td>0.961763</td>\n",
       "      <td>0.004423</td>\n",
       "      <td>0.960049</td>\n",
       "      <td>0.802953</td>\n",
       "    </tr>\n",
       "    <tr>\n",
       "      <th>7</th>\n",
       "      <td>0.480077</td>\n",
       "      <td>0.801624</td>\n",
       "      <td>0.675848</td>\n",
       "      <td>0.267560</td>\n",
       "      <td>0.301772</td>\n",
       "    </tr>\n",
       "    <tr>\n",
       "      <th>8</th>\n",
       "      <td>0.022622</td>\n",
       "      <td>0.467723</td>\n",
       "      <td>0.002009</td>\n",
       "      <td>0.330221</td>\n",
       "      <td>0.896371</td>\n",
       "    </tr>\n",
       "    <tr>\n",
       "      <th>9</th>\n",
       "      <td>0.102215</td>\n",
       "      <td>0.454404</td>\n",
       "      <td>0.449745</td>\n",
       "      <td>0.495020</td>\n",
       "      <td>0.919107</td>\n",
       "    </tr>\n",
       "  </tbody>\n",
       "</table>\n",
       "</div>"
      ],
      "text/plain": [
       "          0         1         2         3         4\n",
       "0  0.801897  0.029149  0.406246  0.519089  0.850062\n",
       "1  0.253377  0.794112  0.262205  0.112366  0.937812\n",
       "2  0.928544  0.322402  0.253770  0.598446  0.179741\n",
       "3  0.677665  0.778870  0.422084  0.912409  0.347103\n",
       "4  0.836882  0.775040  0.412256  0.087985  0.004178\n",
       "5  0.853440  0.390238  0.705562  0.865077  0.094738\n",
       "6  0.783176  0.961763  0.004423  0.960049  0.802953\n",
       "7  0.480077  0.801624  0.675848  0.267560  0.301772\n",
       "8  0.022622  0.467723  0.002009  0.330221  0.896371\n",
       "9  0.102215  0.454404  0.449745  0.495020  0.919107"
      ]
     },
     "execution_count": 43,
     "metadata": {},
     "output_type": "execute_result"
    }
   ],
   "source": [
    "df = pd.DataFrame(np.random.rand(10,5),index=np.arange(0,10))\n",
    "df"
   ]
  },
  {
   "cell_type": "code",
   "execution_count": 44,
   "metadata": {},
   "outputs": [
    {
     "data": {
      "text/html": [
       "<div>\n",
       "<style scoped>\n",
       "    .dataframe tbody tr th:only-of-type {\n",
       "        vertical-align: middle;\n",
       "    }\n",
       "\n",
       "    .dataframe tbody tr th {\n",
       "        vertical-align: top;\n",
       "    }\n",
       "\n",
       "    .dataframe thead th {\n",
       "        text-align: right;\n",
       "    }\n",
       "</style>\n",
       "<table border=\"1\" class=\"dataframe\">\n",
       "  <thead>\n",
       "    <tr style=\"text-align: right;\">\n",
       "      <th></th>\n",
       "      <th>0</th>\n",
       "      <th>1</th>\n",
       "      <th>2</th>\n",
       "      <th>3</th>\n",
       "      <th>4</th>\n",
       "    </tr>\n",
       "  </thead>\n",
       "  <tbody>\n",
       "    <tr>\n",
       "      <th>count</th>\n",
       "      <td>10.000000</td>\n",
       "      <td>10.000000</td>\n",
       "      <td>10.000000</td>\n",
       "      <td>10.000000</td>\n",
       "      <td>10.000000</td>\n",
       "    </tr>\n",
       "    <tr>\n",
       "      <th>mean</th>\n",
       "      <td>0.573990</td>\n",
       "      <td>0.577533</td>\n",
       "      <td>0.359415</td>\n",
       "      <td>0.514822</td>\n",
       "      <td>0.533384</td>\n",
       "    </tr>\n",
       "    <tr>\n",
       "      <th>std</th>\n",
       "      <td>0.336246</td>\n",
       "      <td>0.289140</td>\n",
       "      <td>0.238371</td>\n",
       "      <td>0.320721</td>\n",
       "      <td>0.380487</td>\n",
       "    </tr>\n",
       "    <tr>\n",
       "      <th>min</th>\n",
       "      <td>0.022622</td>\n",
       "      <td>0.029149</td>\n",
       "      <td>0.002009</td>\n",
       "      <td>0.087985</td>\n",
       "      <td>0.004178</td>\n",
       "    </tr>\n",
       "    <tr>\n",
       "      <th>25%</th>\n",
       "      <td>0.310052</td>\n",
       "      <td>0.406279</td>\n",
       "      <td>0.255879</td>\n",
       "      <td>0.283225</td>\n",
       "      <td>0.210249</td>\n",
       "    </tr>\n",
       "    <tr>\n",
       "      <th>50%</th>\n",
       "      <td>0.730420</td>\n",
       "      <td>0.621382</td>\n",
       "      <td>0.409251</td>\n",
       "      <td>0.507054</td>\n",
       "      <td>0.575028</td>\n",
       "    </tr>\n",
       "    <tr>\n",
       "      <th>75%</th>\n",
       "      <td>0.828136</td>\n",
       "      <td>0.790302</td>\n",
       "      <td>0.442830</td>\n",
       "      <td>0.798419</td>\n",
       "      <td>0.884794</td>\n",
       "    </tr>\n",
       "    <tr>\n",
       "      <th>max</th>\n",
       "      <td>0.928544</td>\n",
       "      <td>0.961763</td>\n",
       "      <td>0.705562</td>\n",
       "      <td>0.960049</td>\n",
       "      <td>0.937812</td>\n",
       "    </tr>\n",
       "  </tbody>\n",
       "</table>\n",
       "</div>"
      ],
      "text/plain": [
       "               0          1          2          3          4\n",
       "count  10.000000  10.000000  10.000000  10.000000  10.000000\n",
       "mean    0.573990   0.577533   0.359415   0.514822   0.533384\n",
       "std     0.336246   0.289140   0.238371   0.320721   0.380487\n",
       "min     0.022622   0.029149   0.002009   0.087985   0.004178\n",
       "25%     0.310052   0.406279   0.255879   0.283225   0.210249\n",
       "50%     0.730420   0.621382   0.409251   0.507054   0.575028\n",
       "75%     0.828136   0.790302   0.442830   0.798419   0.884794\n",
       "max     0.928544   0.961763   0.705562   0.960049   0.937812"
      ]
     },
     "execution_count": 44,
     "metadata": {},
     "output_type": "execute_result"
    }
   ],
   "source": [
    "df.describe()"
   ]
  },
  {
   "cell_type": "code",
   "execution_count": 45,
   "metadata": {},
   "outputs": [
    {
     "data": {
      "text/html": [
       "<div>\n",
       "<style scoped>\n",
       "    .dataframe tbody tr th:only-of-type {\n",
       "        vertical-align: middle;\n",
       "    }\n",
       "\n",
       "    .dataframe tbody tr th {\n",
       "        vertical-align: top;\n",
       "    }\n",
       "\n",
       "    .dataframe thead th {\n",
       "        text-align: right;\n",
       "    }\n",
       "</style>\n",
       "<table border=\"1\" class=\"dataframe\">\n",
       "  <thead>\n",
       "    <tr style=\"text-align: right;\">\n",
       "      <th></th>\n",
       "      <th>0</th>\n",
       "      <th>1</th>\n",
       "      <th>2</th>\n",
       "      <th>3</th>\n",
       "      <th>4</th>\n",
       "    </tr>\n",
       "  </thead>\n",
       "  <tbody>\n",
       "    <tr>\n",
       "      <th>0</th>\n",
       "      <td>0.801897</td>\n",
       "      <td>0.029149</td>\n",
       "      <td>0.406246</td>\n",
       "      <td>0.519089</td>\n",
       "      <td>0.850062</td>\n",
       "    </tr>\n",
       "    <tr>\n",
       "      <th>1</th>\n",
       "      <td>0.253377</td>\n",
       "      <td>0.794112</td>\n",
       "      <td>0.262205</td>\n",
       "      <td>0.112366</td>\n",
       "      <td>0.937812</td>\n",
       "    </tr>\n",
       "    <tr>\n",
       "      <th>2</th>\n",
       "      <td>0.928544</td>\n",
       "      <td>0.322402</td>\n",
       "      <td>0.253770</td>\n",
       "      <td>0.598446</td>\n",
       "      <td>0.179741</td>\n",
       "    </tr>\n",
       "    <tr>\n",
       "      <th>3</th>\n",
       "      <td>0.677665</td>\n",
       "      <td>0.778870</td>\n",
       "      <td>0.422084</td>\n",
       "      <td>0.912409</td>\n",
       "      <td>0.347103</td>\n",
       "    </tr>\n",
       "    <tr>\n",
       "      <th>4</th>\n",
       "      <td>0.836882</td>\n",
       "      <td>0.775040</td>\n",
       "      <td>0.412256</td>\n",
       "      <td>0.087985</td>\n",
       "      <td>0.004178</td>\n",
       "    </tr>\n",
       "    <tr>\n",
       "      <th>5</th>\n",
       "      <td>0.853440</td>\n",
       "      <td>0.390238</td>\n",
       "      <td>0.705562</td>\n",
       "      <td>0.865077</td>\n",
       "      <td>0.094738</td>\n",
       "    </tr>\n",
       "    <tr>\n",
       "      <th>6</th>\n",
       "      <td>0.783176</td>\n",
       "      <td>0.961763</td>\n",
       "      <td>0.004423</td>\n",
       "      <td>0.960049</td>\n",
       "      <td>0.802953</td>\n",
       "    </tr>\n",
       "    <tr>\n",
       "      <th>7</th>\n",
       "      <td>0.480077</td>\n",
       "      <td>0.801624</td>\n",
       "      <td>0.675848</td>\n",
       "      <td>0.267560</td>\n",
       "      <td>0.301772</td>\n",
       "    </tr>\n",
       "    <tr>\n",
       "      <th>8</th>\n",
       "      <td>0.022622</td>\n",
       "      <td>0.467723</td>\n",
       "      <td>0.002009</td>\n",
       "      <td>0.330221</td>\n",
       "      <td>0.896371</td>\n",
       "    </tr>\n",
       "    <tr>\n",
       "      <th>9</th>\n",
       "      <td>0.102215</td>\n",
       "      <td>0.454404</td>\n",
       "      <td>0.449745</td>\n",
       "      <td>0.495020</td>\n",
       "      <td>0.919107</td>\n",
       "    </tr>\n",
       "  </tbody>\n",
       "</table>\n",
       "</div>"
      ],
      "text/plain": [
       "          0         1         2         3         4\n",
       "0  0.801897  0.029149  0.406246  0.519089  0.850062\n",
       "1  0.253377  0.794112  0.262205  0.112366  0.937812\n",
       "2  0.928544  0.322402  0.253770  0.598446  0.179741\n",
       "3  0.677665  0.778870  0.422084  0.912409  0.347103\n",
       "4  0.836882  0.775040  0.412256  0.087985  0.004178\n",
       "5  0.853440  0.390238  0.705562  0.865077  0.094738\n",
       "6  0.783176  0.961763  0.004423  0.960049  0.802953\n",
       "7  0.480077  0.801624  0.675848  0.267560  0.301772\n",
       "8  0.022622  0.467723  0.002009  0.330221  0.896371\n",
       "9  0.102215  0.454404  0.449745  0.495020  0.919107"
      ]
     },
     "execution_count": 45,
     "metadata": {},
     "output_type": "execute_result"
    }
   ],
   "source": [
    "df"
   ]
  },
  {
   "cell_type": "code",
   "execution_count": 46,
   "metadata": {},
   "outputs": [
    {
     "data": {
      "text/plain": [
       "pandas.core.frame.DataFrame"
      ]
     },
     "execution_count": 46,
     "metadata": {},
     "output_type": "execute_result"
    }
   ],
   "source": [
    "type(df)"
   ]
  },
  {
   "cell_type": "code",
   "execution_count": 47,
   "metadata": {},
   "outputs": [
    {
     "data": {
      "text/plain": [
       "0    float64\n",
       "1    float64\n",
       "2    float64\n",
       "3    float64\n",
       "4    float64\n",
       "dtype: object"
      ]
     },
     "execution_count": 47,
     "metadata": {},
     "output_type": "execute_result"
    }
   ],
   "source": [
    "# datatypes of all columns\n",
    "df.dtypes"
   ]
  },
  {
   "cell_type": "code",
   "execution_count": 50,
   "metadata": {},
   "outputs": [],
   "source": [
    "# change content of row1-col1 data\n",
    "df[0][0]= 'abc'"
   ]
  },
  {
   "cell_type": "code",
   "execution_count": 51,
   "metadata": {},
   "outputs": [
    {
     "data": {
      "text/plain": [
       "0     object\n",
       "1    float64\n",
       "2    float64\n",
       "3    float64\n",
       "4    float64\n",
       "dtype: object"
      ]
     },
     "execution_count": 51,
     "metadata": {},
     "output_type": "execute_result"
    }
   ],
   "source": [
    "df.dtypes"
   ]
  },
  {
   "cell_type": "code",
   "execution_count": 58,
   "metadata": {},
   "outputs": [
    {
     "name": "stderr",
     "output_type": "stream",
     "text": [
      "C:\\ProgramData\\Anaconda3\\lib\\site-packages\\ipykernel_launcher.py:1: SettingWithCopyWarning: \n",
      "A value is trying to be set on a copy of a slice from a DataFrame\n",
      "\n",
      "See the caveats in the documentation: https://pandas.pydata.org/pandas-docs/stable/user_guide/indexing.html#returning-a-view-versus-a-copy\n",
      "  \"\"\"Entry point for launching an IPython kernel.\n"
     ]
    }
   ],
   "source": [
    "df[0][0]=np.random.rand()"
   ]
  },
  {
   "cell_type": "code",
   "execution_count": 59,
   "metadata": {},
   "outputs": [
    {
     "data": {
      "text/plain": [
       "Int64Index([0, 1, 2, 3, 4, 5, 6, 7, 8, 9], dtype='int64')"
      ]
     },
     "execution_count": 59,
     "metadata": {},
     "output_type": "execute_result"
    }
   ],
   "source": [
    "# all index\n",
    "df.index"
   ]
  },
  {
   "cell_type": "code",
   "execution_count": 60,
   "metadata": {},
   "outputs": [
    {
     "data": {
      "text/plain": [
       "RangeIndex(start=0, stop=5, step=1)"
      ]
     },
     "execution_count": 60,
     "metadata": {},
     "output_type": "execute_result"
    }
   ],
   "source": [
    "# all columns\n",
    "df.columns"
   ]
  },
  {
   "cell_type": "code",
   "execution_count": 61,
   "metadata": {},
   "outputs": [
    {
     "data": {
      "text/html": [
       "<div>\n",
       "<style scoped>\n",
       "    .dataframe tbody tr th:only-of-type {\n",
       "        vertical-align: middle;\n",
       "    }\n",
       "\n",
       "    .dataframe tbody tr th {\n",
       "        vertical-align: top;\n",
       "    }\n",
       "\n",
       "    .dataframe thead th {\n",
       "        text-align: right;\n",
       "    }\n",
       "</style>\n",
       "<table border=\"1\" class=\"dataframe\">\n",
       "  <thead>\n",
       "    <tr style=\"text-align: right;\">\n",
       "      <th></th>\n",
       "      <th>0</th>\n",
       "      <th>1</th>\n",
       "      <th>2</th>\n",
       "      <th>3</th>\n",
       "      <th>4</th>\n",
       "    </tr>\n",
       "  </thead>\n",
       "  <tbody>\n",
       "    <tr>\n",
       "      <th>0</th>\n",
       "      <td>0.730193</td>\n",
       "      <td>0.029149</td>\n",
       "      <td>0.406246</td>\n",
       "      <td>0.519089</td>\n",
       "      <td>0.850062</td>\n",
       "    </tr>\n",
       "    <tr>\n",
       "      <th>1</th>\n",
       "      <td>0.253377</td>\n",
       "      <td>0.794112</td>\n",
       "      <td>0.262205</td>\n",
       "      <td>0.112366</td>\n",
       "      <td>0.937812</td>\n",
       "    </tr>\n",
       "    <tr>\n",
       "      <th>2</th>\n",
       "      <td>0.928544</td>\n",
       "      <td>0.322402</td>\n",
       "      <td>0.253770</td>\n",
       "      <td>0.598446</td>\n",
       "      <td>0.179741</td>\n",
       "    </tr>\n",
       "    <tr>\n",
       "      <th>3</th>\n",
       "      <td>0.677665</td>\n",
       "      <td>0.778870</td>\n",
       "      <td>0.422084</td>\n",
       "      <td>0.912409</td>\n",
       "      <td>0.347103</td>\n",
       "    </tr>\n",
       "    <tr>\n",
       "      <th>4</th>\n",
       "      <td>0.836882</td>\n",
       "      <td>0.775040</td>\n",
       "      <td>0.412256</td>\n",
       "      <td>0.087985</td>\n",
       "      <td>0.004178</td>\n",
       "    </tr>\n",
       "    <tr>\n",
       "      <th>5</th>\n",
       "      <td>0.85344</td>\n",
       "      <td>0.390238</td>\n",
       "      <td>0.705562</td>\n",
       "      <td>0.865077</td>\n",
       "      <td>0.094738</td>\n",
       "    </tr>\n",
       "    <tr>\n",
       "      <th>6</th>\n",
       "      <td>0.783176</td>\n",
       "      <td>0.961763</td>\n",
       "      <td>0.004423</td>\n",
       "      <td>0.960049</td>\n",
       "      <td>0.802953</td>\n",
       "    </tr>\n",
       "    <tr>\n",
       "      <th>7</th>\n",
       "      <td>0.480077</td>\n",
       "      <td>0.801624</td>\n",
       "      <td>0.675848</td>\n",
       "      <td>0.267560</td>\n",
       "      <td>0.301772</td>\n",
       "    </tr>\n",
       "    <tr>\n",
       "      <th>8</th>\n",
       "      <td>0.0226223</td>\n",
       "      <td>0.467723</td>\n",
       "      <td>0.002009</td>\n",
       "      <td>0.330221</td>\n",
       "      <td>0.896371</td>\n",
       "    </tr>\n",
       "    <tr>\n",
       "      <th>9</th>\n",
       "      <td>0.102215</td>\n",
       "      <td>0.454404</td>\n",
       "      <td>0.449745</td>\n",
       "      <td>0.495020</td>\n",
       "      <td>0.919107</td>\n",
       "    </tr>\n",
       "  </tbody>\n",
       "</table>\n",
       "</div>"
      ],
      "text/plain": [
       "           0         1         2         3         4\n",
       "0   0.730193  0.029149  0.406246  0.519089  0.850062\n",
       "1   0.253377  0.794112  0.262205  0.112366  0.937812\n",
       "2   0.928544  0.322402  0.253770  0.598446  0.179741\n",
       "3   0.677665  0.778870  0.422084  0.912409  0.347103\n",
       "4   0.836882  0.775040  0.412256  0.087985  0.004178\n",
       "5    0.85344  0.390238  0.705562  0.865077  0.094738\n",
       "6   0.783176  0.961763  0.004423  0.960049  0.802953\n",
       "7   0.480077  0.801624  0.675848  0.267560  0.301772\n",
       "8  0.0226223  0.467723  0.002009  0.330221  0.896371\n",
       "9   0.102215  0.454404  0.449745  0.495020  0.919107"
      ]
     },
     "execution_count": 61,
     "metadata": {},
     "output_type": "execute_result"
    }
   ],
   "source": [
    "df                    "
   ]
  },
  {
   "cell_type": "code",
   "execution_count": 63,
   "metadata": {},
   "outputs": [
    {
     "data": {
      "text/plain": [
       "array([[0.7301931095320321, 0.02914933750659343, 0.4062455024070467,\n",
       "        0.5190885988515962, 0.8500623793644516],\n",
       "       [0.2533768165759599, 0.7941122648776723, 0.26220480374753785,\n",
       "        0.11236570582332983, 0.9378121529154944],\n",
       "       [0.9285438920990714, 0.3224017255528452, 0.2537704203160073,\n",
       "        0.5984458202502033, 0.17974124063595054],\n",
       "       [0.6776651911353296, 0.7788702844408202, 0.4220844678737552,\n",
       "        0.9124088510607781, 0.34710254735023316],\n",
       "       [0.8368819633584552, 0.7750401069741333, 0.4122560328224846,\n",
       "        0.08798529383631115, 0.004177679833039405],\n",
       "       [0.853440221257549, 0.3902375747737761, 0.7055615545811508,\n",
       "        0.8650768668407006, 0.09473848264243112],\n",
       "       [0.7831755630496244, 0.9617631658580669, 0.004423314893002295,\n",
       "        0.9600485827232037, 0.8029527625293854],\n",
       "       [0.480077452861408, 0.8016243522665462, 0.6758483097179669,\n",
       "        0.2675600305081507, 0.3017722606924804],\n",
       "       [0.02262229595256271, 0.4677232064450767, 0.0020092998798955097,\n",
       "        0.33022071834397926, 0.8963705896353006],\n",
       "       [0.10221531981321985, 0.45440446289927494, 0.4497445776794019,\n",
       "        0.49502019071113135, 0.9191074825642455]], dtype=object)"
      ]
     },
     "execution_count": 63,
     "metadata": {},
     "output_type": "execute_result"
    }
   ],
   "source": [
    "# to convert dataframe to numpy array\n",
    "df.to_numpy()"
   ]
  },
  {
   "cell_type": "code",
   "execution_count": 64,
   "metadata": {},
   "outputs": [
    {
     "data": {
      "text/html": [
       "<div>\n",
       "<style scoped>\n",
       "    .dataframe tbody tr th:only-of-type {\n",
       "        vertical-align: middle;\n",
       "    }\n",
       "\n",
       "    .dataframe tbody tr th {\n",
       "        vertical-align: top;\n",
       "    }\n",
       "\n",
       "    .dataframe thead th {\n",
       "        text-align: right;\n",
       "    }\n",
       "</style>\n",
       "<table border=\"1\" class=\"dataframe\">\n",
       "  <thead>\n",
       "    <tr style=\"text-align: right;\">\n",
       "      <th></th>\n",
       "      <th>0</th>\n",
       "      <th>1</th>\n",
       "      <th>2</th>\n",
       "      <th>3</th>\n",
       "      <th>4</th>\n",
       "      <th>5</th>\n",
       "      <th>6</th>\n",
       "      <th>7</th>\n",
       "      <th>8</th>\n",
       "      <th>9</th>\n",
       "    </tr>\n",
       "  </thead>\n",
       "  <tbody>\n",
       "    <tr>\n",
       "      <th>0</th>\n",
       "      <td>0.730193</td>\n",
       "      <td>0.253377</td>\n",
       "      <td>0.928544</td>\n",
       "      <td>0.677665</td>\n",
       "      <td>0.836882</td>\n",
       "      <td>0.85344</td>\n",
       "      <td>0.783176</td>\n",
       "      <td>0.480077</td>\n",
       "      <td>0.0226223</td>\n",
       "      <td>0.102215</td>\n",
       "    </tr>\n",
       "    <tr>\n",
       "      <th>1</th>\n",
       "      <td>0.0291493</td>\n",
       "      <td>0.794112</td>\n",
       "      <td>0.322402</td>\n",
       "      <td>0.77887</td>\n",
       "      <td>0.77504</td>\n",
       "      <td>0.390238</td>\n",
       "      <td>0.961763</td>\n",
       "      <td>0.801624</td>\n",
       "      <td>0.467723</td>\n",
       "      <td>0.454404</td>\n",
       "    </tr>\n",
       "    <tr>\n",
       "      <th>2</th>\n",
       "      <td>0.406246</td>\n",
       "      <td>0.262205</td>\n",
       "      <td>0.25377</td>\n",
       "      <td>0.422084</td>\n",
       "      <td>0.412256</td>\n",
       "      <td>0.705562</td>\n",
       "      <td>0.00442331</td>\n",
       "      <td>0.675848</td>\n",
       "      <td>0.0020093</td>\n",
       "      <td>0.449745</td>\n",
       "    </tr>\n",
       "    <tr>\n",
       "      <th>3</th>\n",
       "      <td>0.519089</td>\n",
       "      <td>0.112366</td>\n",
       "      <td>0.598446</td>\n",
       "      <td>0.912409</td>\n",
       "      <td>0.0879853</td>\n",
       "      <td>0.865077</td>\n",
       "      <td>0.960049</td>\n",
       "      <td>0.26756</td>\n",
       "      <td>0.330221</td>\n",
       "      <td>0.49502</td>\n",
       "    </tr>\n",
       "    <tr>\n",
       "      <th>4</th>\n",
       "      <td>0.850062</td>\n",
       "      <td>0.937812</td>\n",
       "      <td>0.179741</td>\n",
       "      <td>0.347103</td>\n",
       "      <td>0.00417768</td>\n",
       "      <td>0.0947385</td>\n",
       "      <td>0.802953</td>\n",
       "      <td>0.301772</td>\n",
       "      <td>0.896371</td>\n",
       "      <td>0.919107</td>\n",
       "    </tr>\n",
       "  </tbody>\n",
       "</table>\n",
       "</div>"
      ],
      "text/plain": [
       "           0         1         2         3           4          5           6  \\\n",
       "0   0.730193  0.253377  0.928544  0.677665    0.836882    0.85344    0.783176   \n",
       "1  0.0291493  0.794112  0.322402   0.77887     0.77504   0.390238    0.961763   \n",
       "2   0.406246  0.262205   0.25377  0.422084    0.412256   0.705562  0.00442331   \n",
       "3   0.519089  0.112366  0.598446  0.912409   0.0879853   0.865077    0.960049   \n",
       "4   0.850062  0.937812  0.179741  0.347103  0.00417768  0.0947385    0.802953   \n",
       "\n",
       "          7          8         9  \n",
       "0  0.480077  0.0226223  0.102215  \n",
       "1  0.801624   0.467723  0.454404  \n",
       "2  0.675848  0.0020093  0.449745  \n",
       "3   0.26756   0.330221   0.49502  \n",
       "4  0.301772   0.896371  0.919107  "
      ]
     },
     "execution_count": 64,
     "metadata": {},
     "output_type": "execute_result"
    }
   ],
   "source": [
    "# transpose dataframe like array\n",
    "df.T"
   ]
  },
  {
   "cell_type": "code",
   "execution_count": 65,
   "metadata": {},
   "outputs": [
    {
     "data": {
      "text/html": [
       "<div>\n",
       "<style scoped>\n",
       "    .dataframe tbody tr th:only-of-type {\n",
       "        vertical-align: middle;\n",
       "    }\n",
       "\n",
       "    .dataframe tbody tr th {\n",
       "        vertical-align: top;\n",
       "    }\n",
       "\n",
       "    .dataframe thead th {\n",
       "        text-align: right;\n",
       "    }\n",
       "</style>\n",
       "<table border=\"1\" class=\"dataframe\">\n",
       "  <thead>\n",
       "    <tr style=\"text-align: right;\">\n",
       "      <th></th>\n",
       "      <th>0</th>\n",
       "      <th>1</th>\n",
       "      <th>2</th>\n",
       "      <th>3</th>\n",
       "      <th>4</th>\n",
       "    </tr>\n",
       "  </thead>\n",
       "  <tbody>\n",
       "    <tr>\n",
       "      <th>0</th>\n",
       "      <td>0.730193</td>\n",
       "      <td>0.029149</td>\n",
       "      <td>0.406246</td>\n",
       "      <td>0.519089</td>\n",
       "      <td>0.850062</td>\n",
       "    </tr>\n",
       "    <tr>\n",
       "      <th>1</th>\n",
       "      <td>0.253377</td>\n",
       "      <td>0.794112</td>\n",
       "      <td>0.262205</td>\n",
       "      <td>0.112366</td>\n",
       "      <td>0.937812</td>\n",
       "    </tr>\n",
       "    <tr>\n",
       "      <th>2</th>\n",
       "      <td>0.928544</td>\n",
       "      <td>0.322402</td>\n",
       "      <td>0.253770</td>\n",
       "      <td>0.598446</td>\n",
       "      <td>0.179741</td>\n",
       "    </tr>\n",
       "    <tr>\n",
       "      <th>3</th>\n",
       "      <td>0.677665</td>\n",
       "      <td>0.778870</td>\n",
       "      <td>0.422084</td>\n",
       "      <td>0.912409</td>\n",
       "      <td>0.347103</td>\n",
       "    </tr>\n",
       "    <tr>\n",
       "      <th>4</th>\n",
       "      <td>0.836882</td>\n",
       "      <td>0.775040</td>\n",
       "      <td>0.412256</td>\n",
       "      <td>0.087985</td>\n",
       "      <td>0.004178</td>\n",
       "    </tr>\n",
       "    <tr>\n",
       "      <th>5</th>\n",
       "      <td>0.85344</td>\n",
       "      <td>0.390238</td>\n",
       "      <td>0.705562</td>\n",
       "      <td>0.865077</td>\n",
       "      <td>0.094738</td>\n",
       "    </tr>\n",
       "    <tr>\n",
       "      <th>6</th>\n",
       "      <td>0.783176</td>\n",
       "      <td>0.961763</td>\n",
       "      <td>0.004423</td>\n",
       "      <td>0.960049</td>\n",
       "      <td>0.802953</td>\n",
       "    </tr>\n",
       "    <tr>\n",
       "      <th>7</th>\n",
       "      <td>0.480077</td>\n",
       "      <td>0.801624</td>\n",
       "      <td>0.675848</td>\n",
       "      <td>0.267560</td>\n",
       "      <td>0.301772</td>\n",
       "    </tr>\n",
       "    <tr>\n",
       "      <th>8</th>\n",
       "      <td>0.0226223</td>\n",
       "      <td>0.467723</td>\n",
       "      <td>0.002009</td>\n",
       "      <td>0.330221</td>\n",
       "      <td>0.896371</td>\n",
       "    </tr>\n",
       "    <tr>\n",
       "      <th>9</th>\n",
       "      <td>0.102215</td>\n",
       "      <td>0.454404</td>\n",
       "      <td>0.449745</td>\n",
       "      <td>0.495020</td>\n",
       "      <td>0.919107</td>\n",
       "    </tr>\n",
       "  </tbody>\n",
       "</table>\n",
       "</div>"
      ],
      "text/plain": [
       "           0         1         2         3         4\n",
       "0   0.730193  0.029149  0.406246  0.519089  0.850062\n",
       "1   0.253377  0.794112  0.262205  0.112366  0.937812\n",
       "2   0.928544  0.322402  0.253770  0.598446  0.179741\n",
       "3   0.677665  0.778870  0.422084  0.912409  0.347103\n",
       "4   0.836882  0.775040  0.412256  0.087985  0.004178\n",
       "5    0.85344  0.390238  0.705562  0.865077  0.094738\n",
       "6   0.783176  0.961763  0.004423  0.960049  0.802953\n",
       "7   0.480077  0.801624  0.675848  0.267560  0.301772\n",
       "8  0.0226223  0.467723  0.002009  0.330221  0.896371\n",
       "9   0.102215  0.454404  0.449745  0.495020  0.919107"
      ]
     },
     "execution_count": 65,
     "metadata": {},
     "output_type": "execute_result"
    }
   ],
   "source": [
    "df"
   ]
  },
  {
   "cell_type": "code",
   "execution_count": null,
   "metadata": {},
   "outputs": [],
   "source": []
  }
 ],
 "metadata": {
  "kernelspec": {
   "display_name": "Python 3",
   "language": "python",
   "name": "python3"
  },
  "language_info": {
   "codemirror_mode": {
    "name": "ipython",
    "version": 3
   },
   "file_extension": ".py",
   "mimetype": "text/x-python",
   "name": "python",
   "nbconvert_exporter": "python",
   "pygments_lexer": "ipython3",
   "version": "3.7.4"
  }
 },
 "nbformat": 4,
 "nbformat_minor": 4
}
